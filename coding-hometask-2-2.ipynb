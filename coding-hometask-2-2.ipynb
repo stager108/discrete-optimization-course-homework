{
 "cells": [
  {
   "cell_type": "markdown",
   "metadata": {
    "deletable": true,
    "editable": true
   },
   "source": [
    "# Задание по курсу «Дискретная оптимизация», МФТИ, весна 2017"
   ]
  },
  {
   "cell_type": "markdown",
   "metadata": {
    "deletable": true,
    "editable": true
   },
   "source": [
    "## Задача 2-2. Эвристика Кернигана—Лина\n",
    "\n",
    "В этой задаче Вам предлагается добавить к локальному поиска в задаче о сбалансированном разбиении графа эвристику Кернигана—Лина, когда мы, «застряв» в локальном минимуме, тем не менее пытаемся сделать несколько шагов из него, даже если они приводят к временному ухудшению. Надежда здесь на то, что после ухудшения может наступить заметное улучшение результата: нам удастся выпрыгнуть из локального оптимума. Мы рассматриваем безвесовый вариант задачи о разбиении с параметром балансировки $\\alpha=\\frac{1}{2}$:\n",
    "\n",
    "**Даны:**\n",
    "* $G=(V,E)$ — граф без весов на рёбрах\n",
    "\n",
    "**Найти:**\n",
    "* Разбиение $V=V'\\sqcup V''$, такое, что $V'=\\lfloor |V|/2 \\rfloor$ и число рёбер между $V'$ и $V''$ минимально возможное.\n",
    "\n",
    "Сделайте следующее:\n",
    "* Скачайте файл [`partition-instances.zip`](https://github.com/dainiak/discrete-optimization-course/raw/master/partition-instances.zip) и разархивируйте из него файлы со входами задачи.\n",
    "* Для каждого из графов найдите локальным поиском с эвристикой Кернигана—Лина локально минимальное (по количеству рёбер между частями) разбиение вершин графа на две части, мощности которых отличаются не более чем на единицу. \n",
    "* Реализуйте функцию `variable_depth_local_search`; она должна принимать на вход граф в формате, предоставляемом функцией `read_instance`, и возвращать найденное разбиение как множество вершин, лежащих в одной любой из двух компонент разбиения. Ваш локальный поиск должен начинаться с того разбиение, которое уже находится в переменной `starting_point`.\n",
    "* Подберите для каждого из четырёх входных графов глубину поиска так, чтобы он работал не более 60 секунд на Вашем компьютере, и сохраните информацию о подобранных параметрах и любые свои интересные наблюдения в отдельную ячейку настоящего ipynb-файла."
   ]
  },
  {
   "cell_type": "code",
   "execution_count": 2,
   "metadata": {
    "collapsed": true,
    "deletable": true,
    "editable": true
   },
   "outputs": [],
   "source": [
    "def read_instance(filename):\n",
    "    with open(filename, 'r') as file:\n",
    "        n_vertices = int(file.readline().strip().split()[0])\n",
    "        vertices, edges = set(range(1, n_vertices + 1)), set()\n",
    "        for u in range(1, n_vertices + 1):\n",
    "            for v in map(int, file.readline().strip().split()):\n",
    "                edges.add((u,v))\n",
    "        return (vertices, edges)"
   ]
  },
  {
   "cell_type": "code",
   "execution_count": 86,
   "metadata": {
    "collapsed": false,
    "deletable": true,
    "editable": true
   },
   "outputs": [],
   "source": [
    "import numpy as np\n",
    "import random\n",
    "\n",
    "def variable_depth_local_search(graph, constant, depth):\n",
    "\n",
    "    def get_weight1(p1, p2):\n",
    "        # Ищем вес текущего разбиения.\n",
    "        # Никакой дополнительной информации нет.\n",
    "        nonlocal d1\n",
    "        nonlocal d2\n",
    "        d1 = np.zeros(len(graph[0]) + 2)\n",
    "        d2 = np.zeros(len(graph[0]) + 2)\n",
    "        weight = 0\n",
    "        for (v1,v2) in graph[1]: # Выгоднее перебирать все рёбра, чем все пары вершин.\n",
    "            if( v1 in p1 and v2 in p2)or(v1 in p2 and v2 in p1):\n",
    "                weight += 1\n",
    "                if(v1 in p1):\n",
    "                    d2[v1] += 1 # Учитываем каждое ребро для подсчёта связей.\n",
    "                    d1[v2] += 1\n",
    "                else:\n",
    "                    d1[v1] += 1\n",
    "                    d2[v2] += 1\n",
    "            else:\n",
    "                if(v1 in p1):\n",
    "                    d1[v1] += 1\n",
    "                    d1[v2] += 1\n",
    "                else:\n",
    "                    d2[v1] += 1\n",
    "                    d2[v2] += 1\n",
    "                    \n",
    "        return weight//2 # Все рёбра посчитаны дважды.\n",
    "    \n",
    "    \n",
    "    def get_new_weight(v1, v2, weight):\n",
    "        # Ищем вес текущего разбиения.\n",
    "        # При этом известен вес старого разбиения и пара вершин, которые поменялись местами.\n",
    "        nonlocal d1\n",
    "        nonlocal d2\n",
    "        ans = weight - (d1[v2] + d2[v1] - d2[v2] - d1[v1])//2;\n",
    "        return ans\n",
    "    \n",
    "    def try_changing(p1, p2):\n",
    "        # Попытка улучшить текущий результат.\n",
    "        # Возвращаем вес оптимального разбиения в 1-окрестности.\n",
    "        nonlocal d1\n",
    "        nonlocal d2\n",
    "        nonlocal passive_part1\n",
    "        nonlocal passive_part2\n",
    "        box1 = set() # Пара вершин, которую нужно перекинуть.\n",
    "        box2 = set() #\n",
    "        local_best_weight = get_weight1(p1 | passive_part1, p2 | passive_part2) # Лучший вес.\n",
    "        base_weight = local_best_weight # Вес исходной конфигурации.\n",
    "        fail = 0 # Максимальное количество неудачных попыток подряд.\n",
    "        while fail < constant:\n",
    "            first = random.randint(1, len(graph[0]))\n",
    "            while(first not in p1):\n",
    "                first = random.randint(1, len(graph[0]))\n",
    "            second = random.randint(1, len(graph[0]))\n",
    "            while(second not in p2):\n",
    "                second = random.randint(1, len(graph[0]))\n",
    "            new_weight = get_new_weight(first, second, base_weight)\n",
    "            if(local_best_weight > new_weight): # Результат улучшился.\n",
    "                box1 = {first}\n",
    "                box2 = {second}\n",
    "                local_best_weight = new_weight\n",
    "                fail = 0\n",
    "            else:\n",
    "                fail += 1\n",
    "                \n",
    "        return (p1 - box1) | box2, (p2 - box2) | box1, local_best_weight\n",
    "    \n",
    "    def choose_passive(c_part1, c_part2):\n",
    "        # \"Молния\".\n",
    "        # Ухудшаем текущее разбиение, пытаясь выбраться из локального оптимума.\n",
    "        nonlocal d1\n",
    "        nonlocal d2\n",
    "        nonlocal passive_part1\n",
    "        nonlocal passive_part2\n",
    "        \n",
    "        passive1 = random.randint(1, len(graph[0]))\n",
    "        while not (passive1 in cur_part1):\n",
    "            passive1 = random.randint(1, len(graph[0]))\n",
    "            \n",
    "        passive2 = random.randint(1, len(graph[0]))\n",
    "        while not passive2  in cur_part2:\n",
    "            passive2 = random.randint(1, len(graph[0]))\n",
    "            \n",
    "        passive_part1 = {passive1} # Запрещаем вершинам уходить в другую долю.\n",
    "        passive_part2 = {passive2}\n",
    "        c_part1 = c_part1 - passive_part1 # Новые доли разбиения.\n",
    "        c_part2 = c_part2 - passive_part2\n",
    "        \n",
    "        \n",
    "    opt_part1 =  set(range(1, len(graph[0]) // 2 + 1)) # Самое оптимальное из найденных.\n",
    "    opt_part2 =  set(range(len(graph[0]) // 2 + 1, len(graph[0])))\n",
    "    opt_passive_part1 = set() # Вершины, которые нельзя перемещать.\n",
    "    opt_passive_part2  = set()\n",
    "    \n",
    "    cur_part1= opt_part1.copy() # Текущее разбиение.\n",
    "    cur_part2 = opt_part2.copy()\n",
    "    passive_part1 = set() # Вершины, которые нельзя перемещать.\n",
    "    passive_part2 = set()\n",
    "    fails = 0\n",
    "    d1 = np.zeros(len(graph[0])+1) # Оптимизация: количество ребер из вершины x в вершины первой доли.\n",
    "    d2 = np.zeros(len(graph[0])+1) # Аналогично для второй доли.\n",
    "    #starting_point = set(range(1, len(graph[0]) // 2 + 1))\n",
    "\n",
    "    cur_weight = get_weight1(opt_part1, opt_part2) # Вес текущего разбиения.\n",
    "    result = cur_weight # Наилучший результат поиска в окрестности.\n",
    "    best_weight = cur_weight # Вес оптимального разбиения.\n",
    "    while fails < depth: # Максимальный размер \"молнии\" без изменений.\n",
    "        # Повторяем, пока результат улучшается. \n",
    "        cur_part1, cur_part2, result = try_changing(cur_part1, cur_part2)\n",
    "        cur_weight = result\n",
    "        if(cur_weight < best_weight): # Нашли новый оптимум.\n",
    "            result = cur_weight\n",
    "            best_weight = cur_weight\n",
    "            opt_part1 = cur_part1\n",
    "            opt_part2 = cur_part2\n",
    "            opt_passive_part1 = passive_part1\n",
    "            opt_passive_part2 = passive_part2\n",
    "            passive_part1 = set() # Разрешаем всем вершинам пермещаться\n",
    "            passive_part2 = set()\n",
    "            fails = 0 \n",
    "        else:\n",
    "            fails += 1 # Не повезло.\n",
    "            cur_part1 = opt_part1\n",
    "            cur_part2 = opt_part2\n",
    "            choose_passive(cur_part1, cur_part2) # Выбираем новые вершины для \"молнии\".\n",
    "    return opt_part1 | opt_passive_part1"
   ]
  },
  {
   "cell_type": "code",
   "execution_count": 89,
   "metadata": {
    "collapsed": false,
    "deletable": true,
    "editable": true
   },
   "outputs": [],
   "source": [
    "import time\n",
    "\n",
    "def get_quality(graph, partition_part):\n",
    "    if not (partition_part <= graph[0]) or abs(len(partition_part) - len(graph[0]) / 2) > 0.6:\n",
    "        return -1\n",
    "    other_part = set(graph[0]) - partition_part\n",
    "    return sum(1 for edge in graph[1] if set(edge) <= partition_part or set(edge) <= other_part )\n",
    "\n",
    "def run_all():\n",
    "    filenames = ['add20.graph','cti.graph', 't60k.graph', 'm14b.graph']\n",
    "    constants = [3000, 2000, 2000, 200]\n",
    "    depths = [30, 300, 300, 5]\n",
    "    for filename, constant, depth in zip(filenames, constants, depths):\n",
    "        instance = read_instance(filename)\n",
    "        print('Solving instance {}…'.format(filename), end='')\n",
    "        time_start = time.monotonic()\n",
    "        quality = get_quality(instance, variable_depth_local_search(instance, constant, depth))\n",
    "        time_elapsed = time.monotonic()-time_start\n",
    "        print(' done in {:.2} seconds with quality {}'.format(time_elapsed, quality))"
   ]
  },
  {
   "cell_type": "code",
   "execution_count": 90,
   "metadata": {
    "collapsed": false,
    "deletable": true,
    "editable": true,
    "scrolled": false
   },
   "outputs": [
    {
     "name": "stdout",
     "output_type": "stream",
     "text": [
      "Solving instance add20.graph… done in 2.9e+01 seconds with quality 12724\n",
      "Solving instance cti.graph… done in 3.9e+01 seconds with quality 94052\n",
      "Solving instance t60k.graph… done in 8.6e+01 seconds with quality 178236\n",
      "Solving instance m14b.graph…"
     ]
    },
    {
     "ename": "KeyboardInterrupt",
     "evalue": "",
     "output_type": "error",
     "traceback": [
      "\u001b[0;31m---------------------------------------------------------------------------\u001b[0m",
      "\u001b[0;31mKeyboardInterrupt\u001b[0m                         Traceback (most recent call last)",
      "\u001b[0;32m<ipython-input-90-a5db3ff65058>\u001b[0m in \u001b[0;36m<module>\u001b[0;34m()\u001b[0m\n\u001b[0;32m----> 1\u001b[0;31m \u001b[0mrun_all\u001b[0m\u001b[1;33m(\u001b[0m\u001b[1;33m)\u001b[0m\u001b[1;33m\u001b[0m\u001b[0m\n\u001b[0m",
      "\u001b[0;32m<ipython-input-89-34181f9b17ae>\u001b[0m in \u001b[0;36mrun_all\u001b[0;34m()\u001b[0m\n\u001b[1;32m     15\u001b[0m         \u001b[0mprint\u001b[0m\u001b[1;33m(\u001b[0m\u001b[1;34m'Solving instance {}…'\u001b[0m\u001b[1;33m.\u001b[0m\u001b[0mformat\u001b[0m\u001b[1;33m(\u001b[0m\u001b[0mfilename\u001b[0m\u001b[1;33m)\u001b[0m\u001b[1;33m,\u001b[0m \u001b[0mend\u001b[0m\u001b[1;33m=\u001b[0m\u001b[1;34m''\u001b[0m\u001b[1;33m)\u001b[0m\u001b[1;33m\u001b[0m\u001b[0m\n\u001b[1;32m     16\u001b[0m         \u001b[0mtime_start\u001b[0m \u001b[1;33m=\u001b[0m \u001b[0mtime\u001b[0m\u001b[1;33m.\u001b[0m\u001b[0mmonotonic\u001b[0m\u001b[1;33m(\u001b[0m\u001b[1;33m)\u001b[0m\u001b[1;33m\u001b[0m\u001b[0m\n\u001b[0;32m---> 17\u001b[0;31m         \u001b[0mquality\u001b[0m \u001b[1;33m=\u001b[0m \u001b[0mget_quality\u001b[0m\u001b[1;33m(\u001b[0m\u001b[0minstance\u001b[0m\u001b[1;33m,\u001b[0m \u001b[0mvariable_depth_local_search\u001b[0m\u001b[1;33m(\u001b[0m\u001b[0minstance\u001b[0m\u001b[1;33m,\u001b[0m \u001b[0mconstant\u001b[0m\u001b[1;33m,\u001b[0m \u001b[0mdepth\u001b[0m\u001b[1;33m)\u001b[0m\u001b[1;33m)\u001b[0m\u001b[1;33m\u001b[0m\u001b[0m\n\u001b[0m\u001b[1;32m     18\u001b[0m         \u001b[0mtime_elapsed\u001b[0m \u001b[1;33m=\u001b[0m \u001b[0mtime\u001b[0m\u001b[1;33m.\u001b[0m\u001b[0mmonotonic\u001b[0m\u001b[1;33m(\u001b[0m\u001b[1;33m)\u001b[0m\u001b[1;33m-\u001b[0m\u001b[0mtime_start\u001b[0m\u001b[1;33m\u001b[0m\u001b[0m\n\u001b[1;32m     19\u001b[0m         \u001b[0mprint\u001b[0m\u001b[1;33m(\u001b[0m\u001b[1;34m' done in {:.2} seconds with quality {}'\u001b[0m\u001b[1;33m.\u001b[0m\u001b[0mformat\u001b[0m\u001b[1;33m(\u001b[0m\u001b[0mtime_elapsed\u001b[0m\u001b[1;33m,\u001b[0m \u001b[0mquality\u001b[0m\u001b[1;33m)\u001b[0m\u001b[1;33m)\u001b[0m\u001b[1;33m\u001b[0m\u001b[0m\n",
      "\u001b[0;32m<ipython-input-86-a3a9cfe6fa4d>\u001b[0m in \u001b[0;36mvariable_depth_local_search\u001b[0;34m(graph, constant, depth)\u001b[0m\n\u001b[1;32m    111\u001b[0m     \u001b[1;32mwhile\u001b[0m \u001b[0mfails\u001b[0m \u001b[1;33m<\u001b[0m \u001b[0mdepth\u001b[0m\u001b[1;33m:\u001b[0m \u001b[1;31m# Максимальный размер \"молнии\" без изменений.\u001b[0m\u001b[1;33m\u001b[0m\u001b[0m\n\u001b[1;32m    112\u001b[0m         \u001b[1;31m# Повторяем, пока результат улучшается.\u001b[0m\u001b[1;33m\u001b[0m\u001b[1;33m\u001b[0m\u001b[0m\n\u001b[0;32m--> 113\u001b[0;31m         \u001b[0mcur_part1\u001b[0m\u001b[1;33m,\u001b[0m \u001b[0mcur_part2\u001b[0m\u001b[1;33m,\u001b[0m \u001b[0mresult\u001b[0m \u001b[1;33m=\u001b[0m \u001b[0mtry_changing\u001b[0m\u001b[1;33m(\u001b[0m\u001b[0mcur_part1\u001b[0m\u001b[1;33m,\u001b[0m \u001b[0mcur_part2\u001b[0m\u001b[1;33m)\u001b[0m\u001b[1;33m\u001b[0m\u001b[0m\n\u001b[0m\u001b[1;32m    114\u001b[0m         \u001b[0mcur_weight\u001b[0m \u001b[1;33m=\u001b[0m \u001b[0mresult\u001b[0m\u001b[1;33m\u001b[0m\u001b[0m\n\u001b[1;32m    115\u001b[0m         \u001b[1;32mif\u001b[0m\u001b[1;33m(\u001b[0m\u001b[0mcur_weight\u001b[0m \u001b[1;33m<\u001b[0m \u001b[0mbest_weight\u001b[0m\u001b[1;33m)\u001b[0m\u001b[1;33m:\u001b[0m \u001b[1;31m# Нашли новый оптимум.\u001b[0m\u001b[1;33m\u001b[0m\u001b[0m\n",
      "\u001b[0;32m<ipython-input-86-a3a9cfe6fa4d>\u001b[0m in \u001b[0;36mtry_changing\u001b[0;34m(p1, p2)\u001b[0m\n\u001b[1;32m     49\u001b[0m         \u001b[0mbox1\u001b[0m \u001b[1;33m=\u001b[0m \u001b[0mset\u001b[0m\u001b[1;33m(\u001b[0m\u001b[1;33m)\u001b[0m \u001b[1;31m# Пара вершин, которую нужно перекинуть.\u001b[0m\u001b[1;33m\u001b[0m\u001b[0m\n\u001b[1;32m     50\u001b[0m         \u001b[0mbox2\u001b[0m \u001b[1;33m=\u001b[0m \u001b[0mset\u001b[0m\u001b[1;33m(\u001b[0m\u001b[1;33m)\u001b[0m \u001b[1;31m#\u001b[0m\u001b[1;33m\u001b[0m\u001b[0m\n\u001b[0;32m---> 51\u001b[0;31m         \u001b[0mlocal_best_weight\u001b[0m \u001b[1;33m=\u001b[0m \u001b[0mget_weight1\u001b[0m\u001b[1;33m(\u001b[0m\u001b[0mp1\u001b[0m \u001b[1;33m|\u001b[0m \u001b[0mpassive_part1\u001b[0m\u001b[1;33m,\u001b[0m \u001b[0mp2\u001b[0m \u001b[1;33m|\u001b[0m \u001b[0mpassive_part2\u001b[0m\u001b[1;33m)\u001b[0m \u001b[1;31m# Лучший вес.\u001b[0m\u001b[1;33m\u001b[0m\u001b[0m\n\u001b[0m\u001b[1;32m     52\u001b[0m         \u001b[0mbase_weight\u001b[0m \u001b[1;33m=\u001b[0m \u001b[0mlocal_best_weight\u001b[0m \u001b[1;31m# Вес исходной конфигурации.\u001b[0m\u001b[1;33m\u001b[0m\u001b[0m\n\u001b[1;32m     53\u001b[0m         \u001b[0mfail\u001b[0m \u001b[1;33m=\u001b[0m \u001b[1;36m0\u001b[0m \u001b[1;31m# Максимальное количество неудачных попыток подряд.\u001b[0m\u001b[1;33m\u001b[0m\u001b[0m\n",
      "\u001b[0;32m<ipython-input-86-a3a9cfe6fa4d>\u001b[0m in \u001b[0;36mget_weight1\u001b[0;34m(p1, p2)\u001b[0m\n\u001b[1;32m     23\u001b[0m             \u001b[1;32melse\u001b[0m\u001b[1;33m:\u001b[0m\u001b[1;33m\u001b[0m\u001b[0m\n\u001b[1;32m     24\u001b[0m                 \u001b[1;32mif\u001b[0m\u001b[1;33m(\u001b[0m\u001b[0mv1\u001b[0m \u001b[1;32min\u001b[0m \u001b[0mp1\u001b[0m\u001b[1;33m)\u001b[0m\u001b[1;33m:\u001b[0m\u001b[1;33m\u001b[0m\u001b[0m\n\u001b[0;32m---> 25\u001b[0;31m                     \u001b[0md1\u001b[0m\u001b[1;33m[\u001b[0m\u001b[0mv1\u001b[0m\u001b[1;33m]\u001b[0m \u001b[1;33m+=\u001b[0m \u001b[1;36m1\u001b[0m\u001b[1;33m\u001b[0m\u001b[0m\n\u001b[0m\u001b[1;32m     26\u001b[0m                     \u001b[0md1\u001b[0m\u001b[1;33m[\u001b[0m\u001b[0mv2\u001b[0m\u001b[1;33m]\u001b[0m \u001b[1;33m+=\u001b[0m \u001b[1;36m1\u001b[0m\u001b[1;33m\u001b[0m\u001b[0m\n\u001b[1;32m     27\u001b[0m                 \u001b[1;32melse\u001b[0m\u001b[1;33m:\u001b[0m\u001b[1;33m\u001b[0m\u001b[0m\n",
      "\u001b[0;31mKeyboardInterrupt\u001b[0m: "
     ]
    }
   ],
   "source": [
    "run_all()"
   ]
  },
  {
   "cell_type": "markdown",
   "metadata": {
    "deletable": true,
    "editable": true
   },
   "source": [
    "## Выводы\n",
    "(Здесь опишите свои наблюдения и подобранные параметры для каждого из четырёх входных графов.)"
   ]
  },
  {
   "cell_type": "markdown",
   "metadata": {},
   "source": [
    "1. Поскольку полный перебор 1-окрестностей неприемлем по времени для больших тестов, возможен перебор только некоторой части этой окрестности."
   ]
  },
  {
   "cell_type": "markdown",
   "metadata": {},
   "source": [
    "2. Из-за ограниченности времени можно не запускаться рекурсивно после каждой новой \"молнии\", а увеличивать размер множества вершин, которых нельзя перемещать, добавляя к ним новые, то есть удлинять \"молнию\" без разветвлений. Так мы имеем возможность уйти дальше от локального оптимума."
   ]
  },
  {
   "cell_type": "markdown",
   "metadata": {},
   "source": [
    "3. Для графов из 1 и 4 тестов первоначальное разбиение заметно улучшается. Для 1 теста есть возможность выбирать наугад больше пар вершин для обменов, поскольку граф невелик."
   ]
  },
  {
   "cell_type": "markdown",
   "metadata": {},
   "source": [
    "4. Для графов из 2 и 3 тестов результат почти не улучшается. Для них даже большой размер \"молнии\" не приводит к существенным изменениям. Значит, у этих графов первоначальное разбиение даёт очень \"глубокий\" оптимум."
   ]
  }
 ],
 "metadata": {
  "kernelspec": {
   "display_name": "Python 3",
   "language": "python",
   "name": "python3"
  },
  "language_info": {
   "codemirror_mode": {
    "name": "ipython",
    "version": 3
   },
   "file_extension": ".py",
   "mimetype": "text/x-python",
   "name": "python",
   "nbconvert_exporter": "python",
   "pygments_lexer": "ipython3",
   "version": "3.5.3"
  }
 },
 "nbformat": 4,
 "nbformat_minor": 2
}
