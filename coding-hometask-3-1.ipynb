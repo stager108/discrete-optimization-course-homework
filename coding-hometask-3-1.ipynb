{
 "cells": [
  {
   "cell_type": "markdown",
   "metadata": {
    "deletable": true,
    "editable": true
   },
   "source": [
    "# Задание по курсу «Дискретная оптимизация», МФТИ, весна 2017"
   ]
  },
  {
   "cell_type": "markdown",
   "metadata": {
    "collapsed": true,
    "deletable": true,
    "editable": true
   },
   "source": [
    "## Задача 3-1. Задача TSP: инкрементальные алгоритмы.\n",
    "\n",
    "В этой задаче Вам предлагается сравнить алгоритмы Nearest Neighbour и Nearest Insertion в задаче Euclidean TSP.\n",
    "\n",
    "**Даны:**\n",
    "* Координаты точек плоскости, являющихся вершинами графа.\n",
    "\n",
    "**Найти:**\n",
    "* Перестановку вершин, задающих минимальный по длине гамильтонов цикл в графе.\n",
    "\n",
    "Сделайте следующее:\n",
    "* Скачайте файл [`tsp-instances.zip`](https://github.com/dainiak/discrete-optimization-course/raw/master/tsp-instances.zip) и разархивируйте из него файлы со входами задачи TSP.\n",
    "* Реализуйте функции `solve_tsp_nearest_neighbour` и `solve_tsp_nearest_insertion`.\n",
    "* Запустите функцию `run_all()`, чтобы протестировать свой код и сравнить качество решений, получаемых Nearest Neighbour и Nearest Insertion. Сильно ли они отличаются? Запишите свои качественные выводы в 1-2 предложениях в последней ячейке ipynb-файла."
   ]
  },
  {
   "cell_type": "code",
   "execution_count": 180,
   "metadata": {
    "collapsed": true,
    "deletable": true,
    "editable": true
   },
   "outputs": [],
   "source": [
    "def read_tsp_instance(filename):\n",
    "    with open(filename, 'r') as file:\n",
    "        coordinates = []\n",
    "        for line in file:\n",
    "            line = line.strip().lower()\n",
    "            if line.startswith('dimension'):\n",
    "                coordinates = [(0,0)] * int(line.split()[-1])\n",
    "            tokens = line.split()\n",
    "            if len(tokens) == 3 and tokens[0].isdecimal():\n",
    "                tokens = line.split()\n",
    "                coordinates[int(tokens[0])-1] = tuple(map(float, tokens[1:]))\n",
    "        return coordinates\n",
    "\n",
    "from math import sqrt\n",
    "\n",
    "def euclidean_distance(point1, point2):\n",
    "    return sqrt((point1[0]-point2[0]) ** 2 + (point1[1]-point2[1]) ** 2)\n",
    "    \n",
    "def calculate_tour_length(instance, permutation):\n",
    "    n = len(permutation)\n",
    "    return sum(euclidean_distance(instance[permutation[i]], instance[permutation[(i+1) % n]]) for i in range(len(permutation)))"
   ]
  },
  {
   "cell_type": "code",
   "execution_count": 181,
   "metadata": {
    "collapsed": true,
    "deletable": true,
    "editable": true
   },
   "outputs": [],
   "source": [
    "import numpy as np\n",
    "import random\n",
    "import math\n",
    "\n",
    "def solve_tsp_nearest_neighbour(instance):\n",
    "    first  = random.randint(0, len(instance) - 1) # Первую вершину цикла выберем произвольно\n",
    "    answer = [0]*len(instance)\n",
    "    is_visited = np.zeros(len(instance)) # Посещены ли вершины?\n",
    "    is_visited[first] = 1\n",
    "    answer[0] = first\n",
    "    for i in range(0, len(instance) - 1): \n",
    "        distance = math.inf\n",
    "        nearest = 0\n",
    "        for j in range(0, len(instance)): # Выбираем ближайшего среди непосещенных\n",
    "            cur_distance = euclidean_distance(instance[answer[i]], instance[j])\n",
    "            if(is_visited[j] == 0 and cur_distance < distance):\n",
    "                distance = cur_distance \n",
    "                nearest = j\n",
    "        answer[i + 1] = nearest\n",
    "        is_visited[nearest] = 1 \n",
    "    return answer"
   ]
  },
  {
   "cell_type": "code",
   "execution_count": 185,
   "metadata": {
    "collapsed": false,
    "deletable": true,
    "editable": true
   },
   "outputs": [],
   "source": [
    "import numpy as np\n",
    "import random\n",
    "import math\n",
    "\n",
    "\n",
    "def solve_tsp_nearest_insertion(instance):\n",
    "    \n",
    "    def find_first_vertices(): # Находим пару вершин, соединённую самым коротким ребром\n",
    "        cur_distance = math.inf\n",
    "        for i in range(0, len(instance)):\n",
    "            for j in range(0, len(instance)):\n",
    "                d = euclidean_distance(instance[i], instance[j])\n",
    "                if i != j and cur_distance > d:\n",
    "                    cur_distance = d\n",
    "                    answer[0] = i\n",
    "                    answer[1] = j\n",
    "        is_visited[answer[0]] = 1\n",
    "        is_visited[answer[1]] = 1\n",
    "    \n",
    "\n",
    "    def find_nearest(): # Находим ближайшую к выбранным вершину\n",
    "        cur_nearest = -1\n",
    "        cur_distance = math.inf\n",
    "            \n",
    "        vertex = answer[len(answer) - 1]\n",
    "        for j in range(0, len(instance)): # Обновляем расстояния до вершин\n",
    "            if(is_visited[j] == 0):\n",
    "                d = euclidean_distance(instance[j], instance[vertex])\n",
    "                if is_visited[j] == 0 and cur_min_distance[j] > d:\n",
    "                    cur_min_distance[j] = d\n",
    "                    \n",
    "        for j in range(0, len(instance)): # Ищем минимум\n",
    "            if is_visited[j] == 0 and cur_min_distance[j] < cur_distance:\n",
    "                cur_distance = cur_min_distance[j]\n",
    "                cur_nearest = j\n",
    "                \n",
    "        is_visited[cur_nearest] = 1\n",
    "        return cur_nearest\n",
    "    \n",
    "\n",
    "    def find_best_place(vertex): # Ищем лучшее место для вставки новой вершины\n",
    "        cur_nearest = -1\n",
    "        cur_distance = math.inf\n",
    "        for k in range(0, len(answer) - 1):\n",
    "            d = euclidean_distance(instance[answer[k]], instance[vertex]) + \\\n",
    "                                euclidean_distance(instance[answer[k + 1]], instance[vertex])\n",
    "            if cur_distance > d:\n",
    "                cur_distance = d\n",
    "                cur_nearest = k\n",
    "        return cur_nearest\n",
    "    \n",
    "\n",
    "    answer = [0]*2\n",
    "    cur_min_distance = [math.inf]*len(instance) # Текущие минимальные расстояния до всех вершин графа от выбранных\n",
    "    is_visited = np.zeros(len(instance))\n",
    "    find_first_vertices()\n",
    "    for i in range(0, len(instance) - 2): # Выбираем следующую вершину\n",
    "        new_vertex = find_nearest()\n",
    "        answer.insert(find_best_place(new_vertex) + 1, new_vertex)\n",
    "    return answer"
   ]
  },
  {
   "cell_type": "code",
   "execution_count": 186,
   "metadata": {
    "collapsed": false,
    "deletable": true,
    "editable": true
   },
   "outputs": [],
   "source": [
    "import time\n",
    "from os.path import exists\n",
    "\n",
    "def run_all():\n",
    "    instance_filenames = ['d198.tsp', 'd493.tsp', 'd657.tsp', 'd2103.tsp', 'pr107.tsp', 'pr152.tsp', 'pr439.tsp']\n",
    "    for filename in instance_filenames:\n",
    "        if not exists(filename):\n",
    "            print('File not found: “{}”. Skipping this instance.'.format(filename))\n",
    "            continue\n",
    "        instance = read_tsp_instance(filename)\n",
    "        print('Solving instance {}…'.format(filename), end='')\n",
    "        time_start = time.monotonic()\n",
    "        quality_nn = calculate_tour_length(instance, solve_tsp_nearest_neighbour(instance))\n",
    "        time_nn = time.monotonic()-time_start\n",
    "        time_start = time.monotonic()\n",
    "        quality_ni = calculate_tour_length(instance, solve_tsp_nearest_insertion(instance))\n",
    "        time_ni = time.monotonic()-time_start\n",
    "        print(' done in {:.2} seconds with tour length {} using NN and in {:.2} seconds with tour length {} using NI'.format(time_nn, int(quality_nn), time_ni, int(quality_ni)))"
   ]
  },
  {
   "cell_type": "code",
   "execution_count": 187,
   "metadata": {
    "collapsed": false,
    "deletable": true,
    "editable": true
   },
   "outputs": [
    {
     "name": "stdout",
     "output_type": "stream",
     "text": [
      "Solving instance d198.tsp… done in 0.2 seconds with tour length 18506 using NN and in 0.45 seconds with tour length 19944 using NI\n",
      "Solving instance d493.tsp… done in 1.2 seconds with tour length 43699 using NN and in 2.5 seconds with tour length 48762 using NI\n",
      "Solving instance d657.tsp… done in 1.4 seconds with tour length 65173 using NN and in 2.3 seconds with tour length 73468 using NI\n",
      "Solving instance d2103.tsp… done in 5.2 seconds with tour length 94185 using NN and in 1.5e+01 seconds with tour length 137254 using NI\n",
      "Solving instance pr107.tsp… done in 0.016 seconds with tour length 51452 using NN and in 0.031 seconds with tour length 54492 using NI\n",
      "Solving instance pr152.tsp… done in 0.031 seconds with tour length 88823 using NN and in 0.063 seconds with tour length 106938 using NI\n",
      "Solving instance pr439.tsp… done in 0.23 seconds with tour length 131294 using NN and in 1.3 seconds with tour length 173907 using NI\n"
     ]
    }
   ],
   "source": [
    "run_all()"
   ]
  },
  {
   "cell_type": "markdown",
   "metadata": {
    "collapsed": true,
    "deletable": true,
    "editable": true
   },
   "source": [
    "## Выводы\n",
    "(Опишите в 1-2 предложениях свои наблюдения по результатам запусков.)"
   ]
  },
  {
   "cell_type": "markdown",
   "metadata": {},
   "source": [
    "**Выводы:** на данных примерах алгоритм NN показал результат лучше, чем NI. Результаты NI меньше не более чем на 30%, то есть разница не слишком большая. То есть алгоритмы работают почти одинаково."
   ]
  }
 ],
 "metadata": {
  "kernelspec": {
   "display_name": "Python 3",
   "language": "python",
   "name": "python3"
  },
  "language_info": {
   "codemirror_mode": {
    "name": "ipython",
    "version": 3
   },
   "file_extension": ".py",
   "mimetype": "text/x-python",
   "name": "python",
   "nbconvert_exporter": "python",
   "pygments_lexer": "ipython3",
   "version": "3.5.3"
  }
 },
 "nbformat": 4,
 "nbformat_minor": 2
}
