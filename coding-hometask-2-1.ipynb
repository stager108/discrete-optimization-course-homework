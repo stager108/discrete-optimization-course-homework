{
 "cells": [
  {
   "cell_type": "markdown",
   "metadata": {
    "deletable": true,
    "editable": true
   },
   "source": [
    "# Задание по курсу «Дискретная оптимизация», МФТИ, весна 2017"
   ]
  },
  {
   "cell_type": "markdown",
   "metadata": {
    "deletable": true,
    "editable": true
   },
   "source": [
    "## Задача 2-1. Применяем простейший локальный поиск.\n",
    "\n",
    "В этой задаче Вам предлагается попробовать стандартную технику локального поиска (local search) в применении к задаче о сбалансированном разбиении графа. Мы будем рассматривать безвесовый вариант задачи с параметром балансировки $\\alpha=\\frac{1}{2}$:\n",
    "\n",
    "**Даны:**\n",
    "* $G=(V,E)$ — граф без весов на рёбрах\n",
    "\n",
    "**Найти:**\n",
    "* Разбиение $V=V'\\sqcup V''$, такое, что $V'=\\lfloor |V|/2 \\rfloor$ и число рёбер между $V'$ и $V''$ минимально возможное.\n",
    "\n",
    "Сделайте следующее:\n",
    "* [Скачайте](http://mat.gsia.cmu.edu/COLOR/instances.html#XXMYC) файлы mycielX.col  (`for X in range(1,8)`).  (Если интересно, откуда такие графы берутся и чем интересны, см. конструкцию Зыкова—Мыцельского [здесь](https://docs.com/dainiak/3327).)\n",
    "* Для каждого из графов найдите локальным поиском локально минимальное (по количеству рёбер между частями) разбиение вершин графа на две части, мощности которых отличаются не более чем на единицу. \n",
    "* Ваша функция `basic_local_search` должна принимать на вход граф в формате, предоставляемом функцией `read_col_file`, и возвращать найденное локально минимальное разбиение просто как множество либо список вершин, лежащих в одной любой из двух компонент разбиения."
   ]
  },
  {
   "cell_type": "code",
   "execution_count": 5,
   "metadata": {
    "collapsed": true,
    "deletable": true,
    "editable": true
   },
   "outputs": [],
   "source": [
    "def read_col_file(filename):\n",
    "    with open(filename, 'r') as file:\n",
    "        vertices, edges = set(), set()\n",
    "        for line in file:\n",
    "            line = line.strip()\n",
    "            if line.startswith('p'):\n",
    "                vertices = set(range(1, int(line.split()[-2]) + 1))\n",
    "            elif line.startswith('e'):\n",
    "                edges.add(tuple(map(int, line.split()[-2:])))\n",
    "        return (vertices, edges)"
   ]
  },
  {
   "cell_type": "code",
   "execution_count": 1,
   "metadata": {
    "collapsed": true,
    "deletable": true,
    "editable": true
   },
   "outputs": [],
   "source": [
    "import numpy as np\n",
    "import random\n",
    "\n",
    "\n",
    "def basic_local_search(graph):\n",
    "    \n",
    "    \n",
    "    def random_divide(opt_part1, opt_part2): \n",
    "        # Строим изначальное произвольное разбиение.\n",
    "        # Возвращаем вес этого разбиения.\n",
    "        size = len(graph[0])//2\n",
    "        segment = len(graph[0])\n",
    "        while len(opt_part1) <= size:\n",
    "            new = random.randint(1, segment)\n",
    "            opt_part1.add(new)\n",
    "            \n",
    "        for i in range(0, segment):\n",
    "            if (i + 1) not in opt_part1:\n",
    "                opt_part2.add(i + 1)\n",
    "                \n",
    "        return opt_part1, opt_part2, get_weight(opt_part1, opt_part2)\n",
    "\n",
    "    \n",
    "    def get_weight(p1, p2):\n",
    "        # Ищем вес текущего разбиения.\n",
    "        weight = 0\n",
    "        for v1 in p1:\n",
    "            for v2 in p2:\n",
    "                if (v1, v2) in graph[1]:\n",
    "                    weight += 1\n",
    "        return weight\n",
    "    \n",
    "    \n",
    "    def try_changing(part1, part2):\n",
    "        # Попытка улучшить текущий результат.\n",
    "        # Возвращаем вес измененённого разбиения.\n",
    "        part1 = opt_part1.copy()\n",
    "        part2 = opt_part2.copy()\n",
    "        change_size = random.randint(0, 10) + 1\n",
    "        change_size = min(size//2, change_size)\n",
    "        box1 = set()\n",
    "        box2 = set()\n",
    "        while len(box1) < change_size:\n",
    "            new = random.randint(1, size)\n",
    "            if new in part1:\n",
    "                box1.add(new)\n",
    "        while len(box2) < change_size:\n",
    "            new = random.randint(1, size)\n",
    "            if new in part2:\n",
    "                box2.add(new)\n",
    "        part1 = part1 - box1\n",
    "        part1 = part1 | box2\n",
    "        part2 = part2 - box2\n",
    "        part2 = part2 | box1 \n",
    "        \n",
    "        return part1, part2, get_weight(part1, part2)\n",
    "    \n",
    "    \n",
    "    size = len(graph[0]) \n",
    "    part1 = set()\n",
    "    part2 = set()\n",
    "    opt_part1 = set()\n",
    "    opt_part2 = set()\n",
    "    opt_part1, opt_part2, current_weight = random_divide(opt_part1, opt_part2)\n",
    "    \n",
    "    fails = 0\n",
    "    while fails < 5000:\n",
    "        # Ограничиваем число неудачных попыток\n",
    "        part1, part2, result = try_changing(part1, part2)\n",
    "        if result >= current_weight:\n",
    "            fails += 1\n",
    "        else:\n",
    "            fails = 0\n",
    "            current_weight = result\n",
    "            opt_part1 = part1.copy()\n",
    "            opt_part2 = part2.copy()\n",
    "            \n",
    "    return opt_part1"
   ]
  },
  {
   "cell_type": "code",
   "execution_count": null,
   "metadata": {
    "collapsed": true
   },
   "outputs": [],
   "source": [
    "print(basic_local_search(read_col_file('myciel3.col')))"
   ]
  },
  {
   "cell_type": "markdown",
   "metadata": {},
   "source": [
    "{5, 6, 7, 8, 9, 11}"
   ]
  },
  {
   "cell_type": "code",
   "execution_count": null,
   "metadata": {
    "collapsed": true
   },
   "outputs": [],
   "source": [
    "print(basic_local_search(read_col_file('myciel4.col')))"
   ]
  },
  {
   "cell_type": "markdown",
   "metadata": {},
   "source": [
    "{11, 13, 14, 15, 16, 17, 18, 19, 20, 21, 22, 23}"
   ]
  },
  {
   "cell_type": "code",
   "execution_count": null,
   "metadata": {
    "collapsed": true
   },
   "outputs": [],
   "source": [
    "print(basic_local_search(read_col_file('myciel5.col')))"
   ]
  },
  {
   "cell_type": "markdown",
   "metadata": {},
   "source": [
    "{17, 23, 25, 26, 27, 28, 30, 31, 32, 33, 34, 35, 36, 37, 38, 39, 40, 41, 42, 43, 44, 45, 46, 47}"
   ]
  },
  {
   "cell_type": "code",
   "execution_count": null,
   "metadata": {
    "collapsed": true
   },
   "outputs": [],
   "source": [
    "print(basic_local_search(read_col_file('myciel6.col')))"
   ]
  },
  {
   "cell_type": "markdown",
   "metadata": {},
   "source": [
    "{26, 48, 49, 50, 51, 52, 53, 54, 55, 56, 57, 58, 59, 60, 61, 62, 63, 64, 65, 66, 67, 68, 69, 70, 71, 72, 73, 74, 75, 76, 77, 78, 79, 80, 81, 82, 84, 85, 86, 87, 88, 89, 90, 91, 92, 93, 94, 95}"
   ]
  },
  {
   "cell_type": "code",
   "execution_count": null,
   "metadata": {
    "collapsed": true
   },
   "outputs": [],
   "source": [
    "print(basic_local_search(read_col_file('myciel7.col')))"
   ]
  },
  {
   "cell_type": "markdown",
   "metadata": {},
   "source": [
    "{51, 60, 62, 68, 81, 95, 96, 97, 98, 99, 100, 101, 102, 103, 104, 105, 106, 107, 111, 112, 113, 114, 115, 116, 118, 119, 120, 121, 122, 123, 124, 125, 126, 127, 128, 129, 130, 131, 132, 133, 134, 135, 136, 137, 138, 139, 141, 142, 143, 144, 146, 147, 148, 149, 150, 151, 152, 153, 154, 155, 156, 157, 158, 159, 160, 161, 162, 163, 164, 165, 166, 167, 168, 169, 170, 171, 172, 173, 174, 175, 176, 177, 178, 179, 180, 181, 182, 183, 184, 185, 186, 187, 188, 189, 190, 191}"
   ]
  }
 ],
 "metadata": {
  "kernelspec": {
   "display_name": "Python 3",
   "language": "python",
   "name": "python3"
  },
  "language_info": {
   "codemirror_mode": {
    "name": "ipython",
    "version": 3
   },
   "file_extension": ".py",
   "mimetype": "text/x-python",
   "name": "python",
   "nbconvert_exporter": "python",
   "pygments_lexer": "ipython3",
   "version": "3.5.3"
  }
 },
 "nbformat": 4,
 "nbformat_minor": 2
}
