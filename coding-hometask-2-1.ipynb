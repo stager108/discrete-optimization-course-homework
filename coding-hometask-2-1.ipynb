{
 "cells": [
  {
   "cell_type": "markdown",
   "metadata": {
    "deletable": true,
    "editable": true
   },
   "source": [
    "# Задание по курсу «Дискретная оптимизация», МФТИ, весна 2017"
   ]
  },
  {
   "cell_type": "markdown",
   "metadata": {
    "deletable": true,
    "editable": true
   },
   "source": [
    "## Задача 2-1. Применяем простейший локальный поиск.\n",
    "\n",
    "В этой задаче Вам предлагается попробовать стандартную технику локального поиска (local search) в применении к задаче о сбалансированном разбиении графа. Мы будем рассматривать безвесовый вариант задачи с параметром балансировки $\\alpha=\\frac{1}{2}$:\n",
    "\n",
    "**Даны:**\n",
    "* $G=(V,E)$ — граф без весов на рёбрах\n",
    "\n",
    "**Найти:**\n",
    "* Разбиение $V=V'\\sqcup V''$, такое, что $V'=\\lfloor |V|/2 \\rfloor$ и число рёбер между $V'$ и $V''$ минимально возможное.\n",
    "\n",
    "Сделайте следующее:\n",
    "* [Скачайте](http://mat.gsia.cmu.edu/COLOR/instances.html#XXMYC) файлы mycielX.col  (`for X in range(1,8)`).  (Если интересно, откуда такие графы берутся и чем интересны, см. конструкцию Зыкова—Мыцельского [здесь](https://docs.com/dainiak/3327).)\n",
    "* Для каждого из графов найдите локальным поиском локально минимальное (по количеству рёбер между частями) разбиение вершин графа на две части, мощности которых отличаются не более чем на единицу. \n",
    "* Ваша функция `basic_local_search` должна принимать на вход граф в формате, предоставляемом функцией `read_col_file`, и возвращать найденное локально минимальное разбиение просто как множество либо список вершин, лежащих в одной любой из двух компонент разбиения."
   ]
  },
  {
   "cell_type": "code",
   "execution_count": 16,
   "metadata": {
    "collapsed": true,
    "deletable": true,
    "editable": true
   },
   "outputs": [],
   "source": [
    "def read_col_file(filename):\n",
    "    with open(filename, 'r') as file:\n",
    "        vertices, edges = set(), set()\n",
    "        for line in file:\n",
    "            line = line.strip()\n",
    "            if line.startswith('p'):\n",
    "                vertices = set(range(1, int(line.split()[-2]) + 1))\n",
    "            elif line.startswith('e'):\n",
    "                edges.add(tuple(map(int, line.split()[-2:])))\n",
    "        return (vertices, edges)"
   ]
  },
  {
   "cell_type": "code",
   "execution_count": 60,
   "metadata": {
    "collapsed": true,
    "deletable": true,
    "editable": true
   },
   "outputs": [],
   "source": [
    "import numpy as np\n",
    "import random\n",
    "\n",
    "\n",
    "def basic_local_search(graph):\n",
    "    \n",
    "    \n",
    "    def random_divide(opt_part1, opt_part2): \n",
    "        # Строим изначальное произвольное разбиение.\n",
    "        # Возвращаем вес этого разбиения.\n",
    "        size = len(graph[0])//2\n",
    "        segment = len(graph[0])\n",
    "        while len(opt_part1) <= size:\n",
    "            new = random.randint(1, segment)\n",
    "            opt_part1.add(new)\n",
    "            \n",
    "        for i in range(0, segment):\n",
    "            if (i + 1) not in opt_part1:\n",
    "                opt_part2.add(i + 1)\n",
    "                \n",
    "        return opt_part1, opt_part2, get_weight(opt_part1, opt_part2)\n",
    "\n",
    "    \n",
    "    def get_weight(p1, p2):\n",
    "        # Ищем вес текущего разбиения.\n",
    "        weight = 0\n",
    "        for v1 in p1:\n",
    "            for v2 in p2:\n",
    "                if (v1, v2) in graph[1]:\n",
    "                    weight += 1\n",
    "        return weight\n",
    "    \n",
    "    \n",
    "    def try_changing():\n",
    "        # Попытка улучшить текущий результат.\n",
    "        # Возвращаем вес оптимального разбиения в 1-окрестности.\n",
    "        part1 = opt_part1.copy() # Копии разбиения, которые будут меняться\n",
    "        part2 = opt_part2.copy()\n",
    "        box1 = set()\n",
    "        box2 = set()\n",
    "        cur_best_part1 = part1.copy() # Запоминаем текущее разбиение как лучшее\n",
    "        cur_best_part2 = part2.copy()\n",
    "        cur_weight = get_weight(part1, part2) # Текущий вес\n",
    "        best_weight = get_weight(part1, part2) # Лучший вес\n",
    "        for first in opt_part1: # Перебираем все возможные пары вершин и меняем их местами\n",
    "            for second in opt_part2:\n",
    "                box1 = {first}\n",
    "                box2 = {second}\n",
    "                part1 = part1 - box1\n",
    "                part1 = part1 | box2\n",
    "                part2 = part2 - box2\n",
    "                part2 = part2 | box1 \n",
    "                new_weight = get_weight(part1, part2)\n",
    "                if(best_weight > new_weight): # Результат улучшился\n",
    "                    cur_best_part1 = part1.copy()\n",
    "                    cur_best_part2 = part2.copy()\n",
    "                    best_weight = new_weight\n",
    "                part1 = opt_part1.copy() # Возвращаемся на исходную позицию\n",
    "                part1 = opt_part2.copy()\n",
    "        return cur_best_part1, cur_best_part2, best_weight\n",
    "    \n",
    "    size = len(graph[0]) \n",
    "    opt_part1 = set()\n",
    "    opt_part2 = set()\n",
    "    opt_part1, opt_part2, current_weight = random_divide(opt_part1, opt_part2)\n",
    "    \n",
    "    fails = 0\n",
    "    result = current_weight\n",
    "    current_weight += 1\n",
    "    while result < current_weight: # Повторяем, пока результат улучшается\n",
    "        current_weight = result\n",
    "        opt_part1, opt_part2, result = try_changing()\n",
    "    return opt_part1"
   ]
  },
  {
   "cell_type": "code",
   "execution_count": 61,
   "metadata": {
    "collapsed": false,
    "deletable": true,
    "editable": true
   },
   "outputs": [
    {
     "name": "stdout",
     "output_type": "stream",
     "text": [
      "{8, 10, 3, 4, 7}\n"
     ]
    }
   ],
   "source": [
    "print(basic_local_search(read_col_file('myciel3.col')))"
   ]
  },
  {
   "cell_type": "code",
   "execution_count": 54,
   "metadata": {
    "collapsed": false,
    "deletable": true,
    "editable": true
   },
   "outputs": [
    {
     "name": "stdout",
     "output_type": "stream",
     "text": [
      "{4, 6, 8, 9, 10, 11, 13, 14, 15, 16, 22}\n"
     ]
    }
   ],
   "source": [
    "print(basic_local_search(read_col_file('myciel4.col')))"
   ]
  },
  {
   "cell_type": "code",
   "execution_count": 55,
   "metadata": {
    "collapsed": false,
    "deletable": true,
    "editable": true
   },
   "outputs": [
    {
     "name": "stdout",
     "output_type": "stream",
     "text": [
      "{2, 4, 5, 6, 9, 11, 13, 15, 18, 19, 20, 21, 23, 25, 27, 31, 33, 34, 41, 42, 44, 45, 47}\n"
     ]
    }
   ],
   "source": [
    "print(basic_local_search(read_col_file('myciel5.col')))"
   ]
  },
  {
   "cell_type": "code",
   "execution_count": 56,
   "metadata": {
    "collapsed": false,
    "deletable": true,
    "editable": true
   },
   "outputs": [
    {
     "name": "stdout",
     "output_type": "stream",
     "text": [
      "{2, 7, 8, 9, 10, 11, 12, 14, 16, 18, 19, 20, 22, 26, 28, 29, 33, 34, 36, 38, 39, 42, 43, 45, 46, 47, 48, 49, 51, 53, 55, 57, 58, 61, 62, 65, 73, 75, 76, 77, 79, 81, 82, 91, 92, 93, 94}\n"
     ]
    }
   ],
   "source": [
    "print(basic_local_search(read_col_file('myciel6.col')))"
   ]
  },
  {
   "cell_type": "code",
   "execution_count": 57,
   "metadata": {
    "collapsed": false,
    "deletable": true,
    "editable": true
   },
   "outputs": [
    {
     "name": "stdout",
     "output_type": "stream",
     "text": [
      "{2, 3, 4, 6, 7, 9, 15, 18, 19, 20, 23, 27, 29, 31, 32, 33, 35, 36, 38, 39, 41, 43, 45, 46, 50, 51, 54, 55, 56, 59, 60, 61, 64, 65, 67, 70, 73, 75, 77, 78, 79, 80, 84, 88, 89, 90, 92, 94, 95, 99, 101, 102, 108, 109, 111, 112, 113, 114, 119, 120, 121, 123, 128, 129, 130, 132, 134, 136, 137, 139, 140, 141, 142, 145, 146, 148, 149, 150, 151, 154, 155, 158, 164, 168, 171, 172, 174, 175, 176, 179, 181, 184, 185, 186, 187}\n"
     ]
    }
   ],
   "source": [
    "print(basic_local_search(read_col_file('myciel7.col')))"
   ]
  }
 ],
 "metadata": {
  "kernelspec": {
   "display_name": "Python 3",
   "language": "python",
   "name": "python3"
  },
  "language_info": {
   "codemirror_mode": {
    "name": "ipython",
    "version": 3
   },
   "file_extension": ".py",
   "mimetype": "text/x-python",
   "name": "python",
   "nbconvert_exporter": "python",
   "pygments_lexer": "ipython3",
   "version": "3.5.3"
  }
 },
 "nbformat": 4,
 "nbformat_minor": 2
}
