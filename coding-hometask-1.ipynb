{
 "cells": [
  {
   "cell_type": "markdown",
   "metadata": {
    "deletable": true,
    "editable": true
   },
   "source": [
    "# Задание по курсу «Дискретная оптимизация», МФТИ, весна 2017"
   ]
  },
  {
   "cell_type": "markdown",
   "metadata": {
    "deletable": true,
    "editable": true
   },
   "source": [
    "## Задача 1-1\n",
    "## Учимся переводить между decision/evaluation/search на примере Bin Packing\n",
    "\n",
    "**Даны:** \n",
    "* $[w_1, \\dots , w_k], w_i \\in [0, 1]$ — веса грузов  \n",
    "* $n_{\\text{bins}}$ — количество корзин грузоподъемностью 1.\n",
    "\n",
    "Предполагается, что функция `solve_bp_decision(weights, n_bins)` решает «распознавательный» (decision) вариант задачи bin packing. На вход ей подаётся список весов и число корзин. Функция возвращает булевский ответ на вопрос «можно ли заданные веса раскидать по не более чем `n_bins` контейнерам? \n",
    "\n",
    "Напишите содержимое функции `solve_bp_evaluation`, которая возвращает оптимальное число корзин (решает evaluation variant задачи bin packing). \n",
    "\n",
    "Затем напишите содержимое функции `solve_bp_search`, которая возвращает список номеров корзин, которые при каком-нибудь оптимальном распределении присваиваются весам из списка `weights` (корзины нумеруются с единицы). \n",
    "\n",
    "Каждая из следующих функций должна вызывать предыдущую не более чем полиномиальное число раз."
   ]
  },
  {
   "cell_type": "code",
   "execution_count": 4,
   "metadata": {
    "collapsed": false,
    "deletable": true,
    "editable": true
   },
   "outputs": [],
   "source": [
    "def solve_bp_decision(weights: list, n_bins: int) -> bool:\n",
    "    def able_to_pack(weights: list, bin_capacities) -> bool:\n",
    "        return weights == [] or any( \n",
    "            able_to_pack( weights[:-1], bin_capacities[:i] + [capacity - weights[-1]] + bin_capacities[(i + 1):] ) \n",
    "            for i, capacity in enumerate(bin_capacities) if capacity >= weights[-1] \n",
    "        )\n",
    "\n",
    "    return able_to_pack( sorted(weights), [1.0] * n_bins )\n",
    "\n",
    "# To test this, run:\n",
    "# solve_bp_decision([0.8, 0.09, 0.4, 0.7], 2)\n",
    "# solve_bp_decision([0.8, 0.09, 0.4, 0.7], 3)"
   ]
  },
  {
   "cell_type": "code",
   "execution_count": 5,
   "metadata": {
    "collapsed": true,
    "deletable": true,
    "editable": true
   },
   "outputs": [],
   "source": [
    "def solve_bp_evaluation(weights: list) -> int:\n",
    "#   Задача оценки.\n",
    "#   Возвращаем минимальное число корзин.\n",
    "#   Для решения используем бинпоиск по ответу.\n",
    "    left = 0\n",
    "    right = len(weights)\n",
    "    while(right - left > 1):\n",
    "        middle = left + (right - left) // 2 # Ищем середину\n",
    "        if ( solve_bp_decision(weights, middle)): # Есть ли решение для middle корзин?\n",
    "            right = middle # Да: сдвигаем верхнюю границу.\n",
    "        else:\n",
    "            left = middle # Нет: сдвигаем нижнюю границу.\n",
    "    min_n_bins = right\n",
    "    return min_n_bins"
   ]
  },
  {
   "cell_type": "code",
   "execution_count": 6,
   "metadata": {
    "collapsed": true,
    "deletable": true,
    "editable": true
   },
   "outputs": [],
   "source": [
    "import numpy as np\n",
    "\n",
    "def solve_bp_search(weights: list):\n",
    "    \n",
    "    # Ищем решение в виде списка корзин.\n",
    "    \n",
    "    def next(current):\n",
    "    # Вспомогательная функция.\n",
    "    # Ищем предмет с минимальным номером,большим заданного,\n",
    "    # который ещё не лежит ни в одной корзине.\n",
    "        current += 1\n",
    "        while ((current < lenght)and(solution[current] > 0)):\n",
    "            current += 1\n",
    "        if (current == lenght):\n",
    "            current = -1\n",
    "        return current\n",
    "\n",
    "    lenght = len(weights)\n",
    "    solution = np.zeros(lenght) # Массив для номеров корзин в решении.\n",
    "    num = solve_bp_evaluation(weights) # Количество корзин в решении.\n",
    "    \n",
    "    for i in range(0, num): # Поочередно заполняем корзины.\n",
    "        busket = next(-1)\n",
    "        # Кладем в корзину первый попавшийся предмет. Здесь можно брать любой предмет,\n",
    "        # поскольку в итоге каждый предмет окажется в какой-нибудь корзине.\n",
    "        solution[busket] = i + 1 \n",
    "        pretend = next(busket) # Первый кандидат на попадание в новую корзину.\n",
    "        \n",
    "        if(pretend != -1):\n",
    "            current_weight = weights[pretend] # Свободное место в текущей корзине.\n",
    "            while (pretend != -1):\n",
    "                if (current_weight + weights[pretend] <= 1): # Кандидат помещается?\n",
    "                    reserve = weights[pretend] # Запоминаем вес кандидата.\n",
    "                    weights[pretend] = 0\n",
    "                    weights[busket] += reserve\n",
    "                    # Помещаем кандидата в текущую корзину, \"склеивая\" его с её содержимым\n",
    "                    # На месте кандидата оставляем ноль, он не повлияет на решение.\n",
    "                    if (solve_bp_evaluation(weights) == num): # Количество корзин не поменялось?\n",
    "                        solution[pretend] = i + 1 # Значит, кандидат становится частью корзины.\n",
    "                    else:\n",
    "                        weights[busket] -= reserve\n",
    "                        weights[pretend] = reserve # Отменяем \"склеивание\".\n",
    "                pretend = next(pretend) # Следующий кандидат.\n",
    "                \n",
    "    return solution"
   ]
  }
 ],
 "metadata": {
  "kernelspec": {
   "display_name": "Python 3",
   "language": "python",
   "name": "python3"
  },
  "language_info": {
   "codemirror_mode": {
    "name": "ipython",
    "version": 3
   },
   "file_extension": ".py",
   "mimetype": "text/x-python",
   "name": "python",
   "nbconvert_exporter": "python",
   "pygments_lexer": "ipython3",
   "version": "3.5.3"
  }
 },
 "nbformat": 4,
 "nbformat_minor": 0
}
