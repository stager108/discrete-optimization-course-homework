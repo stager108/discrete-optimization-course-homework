{
 "cells": [
  {
   "cell_type": "markdown",
   "metadata": {
    "collapsed": true,
    "deletable": true,
    "editable": true
   },
   "source": [
    "## Задача 3-2. Задача TSP: нижняя оценка Гельда—Карпа.\n",
    "\n",
    "В этой задаче Вам предлагается релизовать алгоритм Гельда—Карпа для нижней оценки стоимости решения в задаче Euclidean TSP.\n",
    "\n",
    "Сделайте следующее:\n",
    "* Скачайте файл [`tsp-instances.zip`](https://github.com/dainiak/discrete-optimization-course/raw/master/tsp-instances.zip) и разархивируйте из него файлы со входами задачи TSP. Это в точности те же входные данные, что и в задании 3-1.\n",
    "* Реализуйте функцию `lower_bound_tsp`. При этом можно пользоваться каким-нибудь стандартным алгоритмом построения минимального остовного дерева из библиотеки [`networkx`](https://networkx.github.io/), входящей в состав дистрибутива Anaconda.\n",
    "* Запустите функцию `run_all()`, чтобы протестировать свой код, и напишите полученные, как следствия, верхние оценки погрешностей решений, которые были получены Вашими алгоритмами NN и NI при решении задания 3-1. Запишите свои выводы в 1-2 предложениях в последней ячейке ipynb-файла."
   ]
  },
  {
   "cell_type": "code",
   "execution_count": 4,
   "metadata": {
    "collapsed": false,
    "deletable": true,
    "editable": true
   },
   "outputs": [],
   "source": [
    "from typing import List, Tuple\n",
    "from math import sqrt\n",
    "from itertools import combinations, islice\n",
    "from networkx import  minimum_spanning_tree, parse_edgelist, minimum_spanning_edges\n",
    "import numpy as np\n",
    "\n",
    "def read_tsp_instance(filename: str) -> List[Tuple[int,int]]:\n",
    "    with open(filename, 'r') as file:\n",
    "        coordinates = []\n",
    "        for line in file:\n",
    "            line = line.strip().lower()\n",
    "            if line.startswith('dimension'):\n",
    "                coordinates = [(0, 0)] * int(line.split()[-1])\n",
    "            tokens = line.split()\n",
    "            if len(tokens) == 3 and tokens[0].isdecimal():\n",
    "                tokens = line.split()\n",
    "                coordinates[int(tokens[0])-1] = tuple(map(float, tokens[1:]))\n",
    "        return coordinates\n",
    "\n",
    "\n",
    "def euclidean_distance(point1: Tuple[int,int], point2: Tuple[int,int]) -> float:\n",
    "    return sqrt((point1[0]-point2[0]) ** 2 + (point1[1]-point2[1]) ** 2)"
   ]
  },
  {
   "cell_type": "code",
   "execution_count": 122,
   "metadata": {
    "collapsed": false,
    "deletable": true,
    "editable": true
   },
   "outputs": [],
   "source": [
    "def lower_bound_tsp(count, vertex_coordinates: List[Tuple[int,int]]) -> float:\n",
    "    \n",
    "    def get_graph():\n",
    "        lines = []\n",
    "        for i in range(1, len(vertex_coordinates) + 1): # Переводим заданный граф в формат, нужный стандартным функциям\n",
    "            for j in range(1, len(vertex_coordinates) + 1):\n",
    "                lines.append( str(i) + \" \" + str(j) + \" {'weight':\" + \n",
    "                         str(euclidean_distance(vertex_coordinates[i - 1], vertex_coordinates[j - 1])) + '}')\n",
    "        Gr = parse_edgelist(lines, nodetype = int) # Граф, к которому уже применимы стандартные функции.\n",
    "        return Gr\n",
    "    \n",
    "    \n",
    "    def get_tree_weight(G):\n",
    "        T = minimum_spanning_edges(G)\n",
    "        tree = list(T)\n",
    "        weight = 0\n",
    "        for edge in tree: # Вычисляем вес минимального остовного дерева, складывая веса всех его рёбер.\n",
    "            weight += euclidean_distance(vertex_coordinates[edge[0] - 1], vertex_coordinates[edge[1] - 1])\n",
    "        return tree, weight\n",
    "    \n",
    "\n",
    "    l = []\n",
    "    size = len(vertex_coordinates)\n",
    "    G = get_graph() # Считываем граф\n",
    "    G1 = G.copy()\n",
    "    T, best_weight = get_tree_weight(G) # Вес остовного дерева.\n",
    "    y = np.zeros(size) # \"Потенциалы\".\n",
    "    two = np.ones_like(2)\n",
    "    alpha = 1\n",
    "    counts = np.zeros(size) # Степени вершин в дереве.\n",
    "    weight = best_weight\n",
    "    U = 2 * best_weight # Верхняя оценка. Как известно, длина оптимума не превосходит удвоенного веса остовного дерева.\n",
    "    t = 100\n",
    "    for times in range(0, count): # Количество шагов алгоритма.\n",
    "\n",
    "        counts = np.zeros(size)\n",
    "        for fr in T : # Подсчитываем степени вершин дерева.\n",
    "            counts[fr[0] - 1] += 1\n",
    "            counts[fr[1] - 1] += 1\n",
    "        t = alpha *(U - weight)/(( two - counts)*( two - counts)).sum() # Пересчитываем \"шаг\" алгоритма.\n",
    "        alpha *= 2/3 # Уменьшаем параметр каким-то произвольным образом.\n",
    "        \n",
    "        for i in range(0, size): # Пересчитываем потенциалы.\n",
    "            y[i] += t * (2 - counts[i])\n",
    "        \n",
    "        for fr in range(1, size + 1): # Обновляем веса рёбер.\n",
    "            for to in range(1, size + 1):\n",
    "                if G.has_edge(fr, to):\n",
    "                    G1[fr][to]['weight'] = G[fr][to]['weight'] - y[fr-1]\n",
    "        \n",
    "        T, weight = get_tree_weight(G1)# Оценка.\n",
    "        weight += 2 * y.sum() \n",
    "        if(weight > best_weight):\n",
    "            best_weight = weight\n",
    "   \n",
    "    return(best_weight)"
   ]
  },
  {
   "cell_type": "code",
   "execution_count": 123,
   "metadata": {
    "collapsed": true,
    "deletable": true,
    "editable": true
   },
   "outputs": [],
   "source": [
    "import time\n",
    "from os.path import exists\n",
    "\n",
    "def run_all():\n",
    "    # Порядок следования графов изменён!\n",
    "    instance_filenames = [['d198.tsp', 50], ['d493.tsp', 50], ['d657.tsp', 15], \n",
    "                          ['d2103.tsp', 3], ['pr107.tsp', 15], ['pr152.tsp',15],\n",
    "                          ['pr439.tsp', 15]]\n",
    "    for filename, count in instance_filenames:\n",
    "        if not exists(filename):\n",
    "            print('File not found: “{}”. Skipping this instance.'.format(filename))\n",
    "            continue\n",
    "        instance = read_tsp_instance(filename)\n",
    "        print('Instance {}…'.format(filename), end='')\n",
    "        time_start = time.monotonic()\n",
    "        bound = lower_bound_tsp(count, instance)\n",
    "        time_nn = time.monotonic()-time_start\n",
    "        print(' done in {:.2} seconds with lower bound {}'.format(time_nn, int(bound)))"
   ]
  },
  {
   "cell_type": "code",
   "execution_count": 124,
   "metadata": {
    "collapsed": false,
    "deletable": true,
    "editable": true
   },
   "outputs": [
    {
     "name": "stdout",
     "output_type": "stream",
     "text": [
      "Instance d198.tsp… done in 2.5e+01 seconds with lower bound 14007\n",
      "Instance d493.tsp… done in 9.8e+01 seconds with lower bound 33384\n",
      "Instance d657.tsp… done in 6.9e+01 seconds with lower bound 49379\n",
      "Instance d2103.tsp… done in 4e+02 seconds with lower bound 78979\n",
      "Instance pr107.tsp… done in 1.5 seconds with lower bound 42015\n",
      "Instance pr152.tsp… done in 2.9 seconds with lower bound 68086\n",
      "Instance pr439.tsp… done in 3.3e+01 seconds with lower bound 106352\n"
     ]
    }
   ],
   "source": [
    "run_all()"
   ]
  },
  {
   "cell_type": "markdown",
   "metadata": {
    "deletable": true,
    "editable": true
   },
   "source": [
    "## Выводы\n",
    "Запишите здесь полученные результаты относительно погрешностей алгоритмов NN и NI."
   ]
  },
  {
   "cell_type": "markdown",
   "metadata": {
    "deletable": true,
    "editable": true
   },
   "source": [
    "Из предыдущего задания 3-1 имеем маршруты:\n",
    "\n",
    "1\n",
    "\n",
    "Solving instance d198.tsp... with tour length 18506 using NN and ... with tour length 19944 using NI\n",
    "\n",
    "Instance d198.tsp... done ... with lower bound 14007\n",
    "\n",
    "Найденные значения на около 32% и 42%  для NN и NI соответственно больше оценки\n",
    "\n",
    "\n",
    "2 \n",
    "\n",
    "Solving instance d493.tsp... with tour length 43699 using NN and ... s with tour length 48762 using NI\n",
    "\n",
    "Instance d493.tsp ... done ... with lower bound 33384\n",
    "\n",
    "Найденные значения на около 31% и  46% для NN и NI соответственно больше оценки\n",
    "\n",
    "3\n",
    "\n",
    "Solving instance d657.tsp... with tour length 65173 using NN and ... with tour length 73468 using NI\n",
    "\n",
    "Instance d657.tsp… done ... with lower bound 49379\n",
    "\n",
    "Найденные значения на около 32% и 48%  для NN и NI соответственно больше оценки\n",
    "\n",
    "4\n",
    "\n",
    "Solving instance d2103.tsp… done...with tour length 94185 using NN and ...with tour length 137254 using NI\n",
    "\n",
    "Instance d2103.tsp… done ... seconds with lower bound 78979\n",
    "\n",
    "Найденные значения на около 19% и 74%  для NN и NI соответственно больше оценки \n",
    "\n",
    "5\n",
    "\n",
    "Solving instance pr107.tsp… done... with tour length 51452 using NN and...with tour length 54492 using NI\n",
    "\n",
    "Instance pr107.tsp… done... with lower bound 42015\n",
    "\n",
    "Найденные значения на около 22% и 30%  для NN и NI соответственно больше оценки\n",
    "\n",
    "6\n",
    "\n",
    "Solving instance pr152.tsp… done... with tour length 88823 using NN and ...with tour length 106938 using NI\n",
    "\n",
    "Instance pr152.tsp… done ... with lower bound 68086\n",
    "\n",
    "Найденные значения на около 30% и 57%  для NN и NI соответственно больше оценки\n",
    "\n",
    "7\n",
    "\n",
    "Solving instance pr439.tsp… done... with tour length 131294 using NN and ... with tour length 173907 using NI\n",
    "\n",
    "Instance pr439.tsp… done... with lower bound 106352\n",
    "\n",
    "Найденные значения на около 23% и 64%  для NN и NI соответственно больше оценки\n",
    "\n",
    "\n",
    "**Вывод:** на данных примерах жадные алгоритмы ошибаются в среднем на 30-50%, для этих примеров ошибка никогда не превышала более чем вдвое нижнюю оценку. "
   ]
  }
 ],
 "metadata": {
  "kernelspec": {
   "display_name": "Python 3",
   "language": "python",
   "name": "python3"
  },
  "language_info": {
   "codemirror_mode": {
    "name": "ipython",
    "version": 3
   },
   "file_extension": ".py",
   "mimetype": "text/x-python",
   "name": "python",
   "nbconvert_exporter": "python",
   "pygments_lexer": "ipython3",
   "version": "3.5.3"
  }
 },
 "nbformat": 4,
 "nbformat_minor": 1
}
